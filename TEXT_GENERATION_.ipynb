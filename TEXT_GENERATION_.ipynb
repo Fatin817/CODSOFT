{
  "cells": [
    {
      "cell_type": "markdown",
      "metadata": {
        "id": "view-in-github",
        "colab_type": "text"
      },
      "source": [
        "<a href=\"https://colab.research.google.com/github/Fatin817/CODSOFT/blob/main/TEXT_GENERATION_.ipynb\" target=\"_parent\"><img src=\"https://colab.research.google.com/assets/colab-badge.svg\" alt=\"Open In Colab\"/></a>"
      ]
    },
    {
      "cell_type": "markdown",
      "metadata": {
        "id": "QNpau-l8zIVT"
      },
      "source": [
        "## **Setup and libraries**"
      ]
    },
    {
      "cell_type": "code",
      "execution_count": null,
      "metadata": {
        "colab": {
          "base_uri": "https://localhost:8080/"
        },
        "id": "RaIHYVCuy2nO",
        "outputId": "5fc8fcac-b8ed-49ca-d09c-bba90e1e6e6d"
      },
      "outputs": [
        {
          "name": "stdout",
          "output_type": "stream",
          "text": [
            "TensorFlow version: 2.15.0\n",
            "time: 2.79 ms (started: 2024-06-22 16:33:08 +00:00)\n"
          ]
        }
      ],
      "source": [
        "import tensorflow as tf\n",
        "print(\"TensorFlow version:\", tf.__version__)"
      ]
    },
    {
      "cell_type": "code",
      "execution_count": null,
      "metadata": {
        "colab": {
          "base_uri": "https://localhost:8080/"
        },
        "collapsed": true,
        "id": "xtTCCnvbzcpt",
        "outputId": "dda2dce3-bb27-4c85-ac5e-d6740f80be7b"
      },
      "outputs": [
        {
          "name": "stdout",
          "output_type": "stream",
          "text": [
            "Requirement already satisfied: ipython-autotime in /usr/local/lib/python3.10/dist-packages (0.3.2)\n",
            "Requirement already satisfied: ipython in /usr/local/lib/python3.10/dist-packages (from ipython-autotime) (7.34.0)\n",
            "Requirement already satisfied: setuptools>=18.5 in /usr/local/lib/python3.10/dist-packages (from ipython->ipython-autotime) (67.7.2)\n",
            "Requirement already satisfied: jedi>=0.16 in /usr/local/lib/python3.10/dist-packages (from ipython->ipython-autotime) (0.19.1)\n",
            "Requirement already satisfied: decorator in /usr/local/lib/python3.10/dist-packages (from ipython->ipython-autotime) (4.4.2)\n",
            "Requirement already satisfied: pickleshare in /usr/local/lib/python3.10/dist-packages (from ipython->ipython-autotime) (0.7.5)\n",
            "Requirement already satisfied: traitlets>=4.2 in /usr/local/lib/python3.10/dist-packages (from ipython->ipython-autotime) (5.7.1)\n",
            "Requirement already satisfied: prompt-toolkit!=3.0.0,!=3.0.1,<3.1.0,>=2.0.0 in /usr/local/lib/python3.10/dist-packages (from ipython->ipython-autotime) (3.0.47)\n",
            "Requirement already satisfied: pygments in /usr/local/lib/python3.10/dist-packages (from ipython->ipython-autotime) (2.16.1)\n",
            "Requirement already satisfied: backcall in /usr/local/lib/python3.10/dist-packages (from ipython->ipython-autotime) (0.2.0)\n",
            "Requirement already satisfied: matplotlib-inline in /usr/local/lib/python3.10/dist-packages (from ipython->ipython-autotime) (0.1.7)\n",
            "Requirement already satisfied: pexpect>4.3 in /usr/local/lib/python3.10/dist-packages (from ipython->ipython-autotime) (4.9.0)\n",
            "Requirement already satisfied: parso<0.9.0,>=0.8.3 in /usr/local/lib/python3.10/dist-packages (from jedi>=0.16->ipython->ipython-autotime) (0.8.4)\n",
            "Requirement already satisfied: ptyprocess>=0.5 in /usr/local/lib/python3.10/dist-packages (from pexpect>4.3->ipython->ipython-autotime) (0.7.0)\n",
            "Requirement already satisfied: wcwidth in /usr/local/lib/python3.10/dist-packages (from prompt-toolkit!=3.0.0,!=3.0.1,<3.1.0,>=2.0.0->ipython->ipython-autotime) (0.2.13)\n",
            "The autotime extension is already loaded. To reload it, use:\n",
            "  %reload_ext autotime\n",
            "time: 9.36 s (started: 2024-06-22 16:33:09 +00:00)\n"
          ]
        }
      ],
      "source": [
        "!pip install ipython-autotime\n",
        "%load_ext autotime"
      ]
    },
    {
      "cell_type": "code",
      "execution_count": null,
      "metadata": {
        "colab": {
          "base_uri": "https://localhost:8080/"
        },
        "id": "bLgCAm2KkemT",
        "outputId": "8d78f5b4-b45d-4073-b6d6-ffdf55bec704"
      },
      "outputs": [
        {
          "name": "stdout",
          "output_type": "stream",
          "text": [
            "time: 1.14 ms (started: 2024-06-22 16:54:04 +00:00)\n"
          ]
        }
      ],
      "source": [
        "import tensorflow as tf\n",
        "import numpy as np\n",
        "from tensorflow.keras.layers import Dense,SimpleRNN,Embedding,Dropout\n",
        "from google.colab import drive\n",
        "import keras\n",
        "import re\n",
        "import os\n",
        "import pandas as pd\n",
        "import seaborn as sns\n",
        "import matplotlib.pyplot as plt\n",
        "from tensorflow.keras.optimizers import Adam"
      ]
    },
    {
      "cell_type": "code",
      "execution_count": null,
      "metadata": {
        "id": "64o_QAhLlmSK"
      },
      "outputs": [],
      "source": [
        "drive.mount('/content/drive')"
      ]
    },
    {
      "cell_type": "code",
      "execution_count": null,
      "metadata": {
        "colab": {
          "base_uri": "https://localhost:8080/"
        },
        "id": "UD06oH2RkdaC",
        "outputId": "0d9f9d23-e593-4ef0-8848-ad2bfebf7abc"
      },
      "outputs": [
        {
          "data": {
            "text/plain": [
              "(NpzFile '/content/drive/MyDrive/deepwriting_dataset/deepwriting_training.npz' with keys: subject_labels, eoc_labels, alphabet, strokes, eow_labels...,\n",
              " NpzFile '/content/drive/MyDrive/deepwriting_dataset/deepwriting_validation.npz' with keys: subject_labels, eoc_labels, alphabet, strokes, eow_labels...)"
            ]
          },
          "execution_count": 76,
          "metadata": {},
          "output_type": "execute_result"
        },
        {
          "name": "stdout",
          "output_type": "stream",
          "text": [
            "time: 23.5 ms (started: 2024-06-22 16:33:18 +00:00)\n"
          ]
        }
      ],
      "source": [
        "from typing_extensions import Concatenate\n",
        "# Load the NPZ file (/content/drive/MyDrive/deepwriting_dataset/deepwriting_validation.npz)\n",
        "data1 = np.load('/content/drive/MyDrive/deepwriting_dataset/deepwriting_training.npz', allow_pickle=True)\n",
        "data2 = np.load('/content/drive/MyDrive/deepwriting_dataset/deepwriting_validation.npz', allow_pickle=True)\n",
        "data1, data2"
      ]
    },
    {
      "cell_type": "markdown",
      "metadata": {
        "id": "nWwHR-32xUOU"
      },
      "source": [
        "## **Training**"
      ]
    },
    {
      "cell_type": "code",
      "execution_count": null,
      "metadata": {
        "colab": {
          "base_uri": "https://localhost:8080/"
        },
        "id": "LdZd6NoCmSDH",
        "outputId": "eff05c87-74fe-49d9-e906-c9e59bc40e64"
      },
      "outputs": [
        {
          "data": {
            "text/plain": [
              "((34577,), (34577,), (70,), (34577,), (34577,))"
            ]
          },
          "execution_count": 77,
          "metadata": {},
          "output_type": "execute_result"
        },
        {
          "name": "stdout",
          "output_type": "stream",
          "text": [
            "time: 5.91 s (started: 2024-06-22 16:33:18 +00:00)\n"
          ]
        }
      ],
      "source": [
        "# Shape of the training data\n",
        "subject_labels_train = data1['subject_labels']\n",
        "eoc_labels_train = data1['eoc_labels']\n",
        "alphabet_train = data1['alphabet']\n",
        "strokes_train = data1['strokes']\n",
        "eow_labels_train = data1['eow_labels']\n",
        "\n",
        "subject_labels_train.shape, eoc_labels_train.shape, alphabet_train.shape, strokes_train.shape, eow_labels_train.shape\n"
      ]
    },
    {
      "cell_type": "code",
      "execution_count": null,
      "metadata": {
        "colab": {
          "base_uri": "https://localhost:8080/"
        },
        "id": "okWHW3vpnpD3",
        "outputId": "a2b1d43c-e596-4232-de21-01384dcfe6fb"
      },
      "outputs": [
        {
          "data": {
            "text/plain": [
              "(dtype('int64'), dtype('O'), dtype('<U1'), dtype('O'), dtype('O'))"
            ]
          },
          "execution_count": 78,
          "metadata": {},
          "output_type": "execute_result"
        },
        {
          "name": "stdout",
          "output_type": "stream",
          "text": [
            "time: 6.99 ms (started: 2024-06-22 16:33:28 +00:00)\n"
          ]
        }
      ],
      "source": [
        "subject_labels_train.dtype, eoc_labels_train.dtype, alphabet_train.dtype, strokes_train.dtype, eow_labels_train.dtype"
      ]
    },
    {
      "cell_type": "code",
      "execution_count": null,
      "metadata": {
        "colab": {
          "base_uri": "https://localhost:8080/",
          "height": 53
        },
        "id": "dqMg_Eztm9yz",
        "outputId": "3f21bf39-b56f-43fa-a0ee-5f128fbf2c0a"
      },
      "outputs": [
        {
          "data": {
            "application/vnd.google.colaboratory.intrinsic+json": {
              "type": "string"
            },
            "text/plain": [
              "\"0123456789abcdefghijklmnopqrstuvwxyzABCDEFGHIJKLMNOPQRSTUVWXYZ'.,-()/\""
            ]
          },
          "execution_count": 79,
          "metadata": {},
          "output_type": "execute_result"
        },
        {
          "name": "stdout",
          "output_type": "stream",
          "text": [
            "time: 8.62 ms (started: 2024-06-22 16:33:29 +00:00)\n"
          ]
        }
      ],
      "source": [
        "# Alphabet datatype is a unicode string\n",
        "text_train = ''.join(alphabet_train)\n",
        "text_train"
      ]
    },
    {
      "cell_type": "code",
      "execution_count": null,
      "metadata": {
        "colab": {
          "base_uri": "https://localhost:8080/"
        },
        "id": "HmQw8GkAn71o",
        "outputId": "f43da510-9a85-4e94-b185-0cbd91bd7acc"
      },
      "outputs": [
        {
          "name": "stdout",
          "output_type": "stream",
          "text": [
            "time: 3.01 ms (started: 2024-06-22 16:33:34 +00:00)\n"
          ]
        }
      ],
      "source": [
        "# Create vocabulary from text\n",
        "vocabulary_train = sorted(set(text_train))\n",
        "char_to_index_train = {char: index for index, char in enumerate(vocabulary_train)}\n",
        "index_to_char_train = np.array(vocabulary_train)"
      ]
    },
    {
      "cell_type": "code",
      "execution_count": null,
      "metadata": {
        "colab": {
          "base_uri": "https://localhost:8080/"
        },
        "id": "yIiXjuVdprTU",
        "outputId": "56745792-b590-4181-d6bb-23d9ff092272"
      },
      "outputs": [
        {
          "data": {
            "text/plain": [
              "{\"'\": 0,\n",
              " '(': 1,\n",
              " ')': 2,\n",
              " ',': 3,\n",
              " '-': 4,\n",
              " '.': 5,\n",
              " '/': 6,\n",
              " '0': 7,\n",
              " '1': 8,\n",
              " '2': 9,\n",
              " '3': 10,\n",
              " '4': 11,\n",
              " '5': 12,\n",
              " '6': 13,\n",
              " '7': 14,\n",
              " '8': 15,\n",
              " '9': 16,\n",
              " 'A': 17,\n",
              " 'B': 18,\n",
              " 'C': 19,\n",
              " 'D': 20,\n",
              " 'E': 21,\n",
              " 'F': 22,\n",
              " 'G': 23,\n",
              " 'H': 24,\n",
              " 'I': 25,\n",
              " 'J': 26,\n",
              " 'K': 27,\n",
              " 'L': 28,\n",
              " 'M': 29,\n",
              " 'N': 30,\n",
              " 'O': 31,\n",
              " 'P': 32,\n",
              " 'Q': 33,\n",
              " 'R': 34,\n",
              " 'S': 35,\n",
              " 'T': 36,\n",
              " 'U': 37,\n",
              " 'V': 38,\n",
              " 'W': 39,\n",
              " 'X': 40,\n",
              " 'Y': 41,\n",
              " 'Z': 42,\n",
              " 'a': 43,\n",
              " 'b': 44,\n",
              " 'c': 45,\n",
              " 'd': 46,\n",
              " 'e': 47,\n",
              " 'f': 48,\n",
              " 'g': 49,\n",
              " 'h': 50,\n",
              " 'i': 51,\n",
              " 'j': 52,\n",
              " 'k': 53,\n",
              " 'l': 54,\n",
              " 'm': 55,\n",
              " 'n': 56,\n",
              " 'o': 57,\n",
              " 'p': 58,\n",
              " 'q': 59,\n",
              " 'r': 60,\n",
              " 's': 61,\n",
              " 't': 62,\n",
              " 'u': 63,\n",
              " 'v': 64,\n",
              " 'w': 65,\n",
              " 'x': 66,\n",
              " 'y': 67,\n",
              " 'z': 68}"
            ]
          },
          "execution_count": 81,
          "metadata": {},
          "output_type": "execute_result"
        },
        {
          "name": "stdout",
          "output_type": "stream",
          "text": [
            "time: 6.3 ms (started: 2024-06-22 16:33:56 +00:00)\n"
          ]
        }
      ],
      "source": [
        "char_to_index_train"
      ]
    },
    {
      "cell_type": "code",
      "execution_count": null,
      "metadata": {
        "colab": {
          "base_uri": "https://localhost:8080/"
        },
        "id": "76_G4gNApsRM",
        "outputId": "4cb174fd-f645-4e4d-a40d-3c05a36cea04"
      },
      "outputs": [
        {
          "data": {
            "text/plain": [
              "array([\"'\", '(', ')', ',', '-', '.', '/', '0', '1', '2', '3', '4', '5',\n",
              "       '6', '7', '8', '9', 'A', 'B', 'C', 'D', 'E', 'F', 'G', 'H', 'I',\n",
              "       'J', 'K', 'L', 'M', 'N', 'O', 'P', 'Q', 'R', 'S', 'T', 'U', 'V',\n",
              "       'W', 'X', 'Y', 'Z', 'a', 'b', 'c', 'd', 'e', 'f', 'g', 'h', 'i',\n",
              "       'j', 'k', 'l', 'm', 'n', 'o', 'p', 'q', 'r', 's', 't', 'u', 'v',\n",
              "       'w', 'x', 'y', 'z'], dtype='<U1')"
            ]
          },
          "execution_count": 82,
          "metadata": {},
          "output_type": "execute_result"
        },
        {
          "name": "stdout",
          "output_type": "stream",
          "text": [
            "time: 4.67 ms (started: 2024-06-22 16:34:00 +00:00)\n"
          ]
        }
      ],
      "source": [
        "index_to_char_train"
      ]
    },
    {
      "cell_type": "code",
      "execution_count": null,
      "metadata": {
        "colab": {
          "base_uri": "https://localhost:8080/"
        },
        "id": "X9yqo9LOpDz_",
        "outputId": "c1d06c6d-77b1-4908-acdc-800ef9d397f9"
      },
      "outputs": [
        {
          "data": {
            "text/plain": [
              "array([ 7,  8,  9, 10, 11, 12, 13, 14, 15, 16, 43, 44, 45, 46, 47, 48, 49,\n",
              "       50, 51, 52, 53, 54, 55, 56, 57, 58, 59, 60, 61, 62, 63, 64, 65, 66,\n",
              "       67, 68, 17, 18, 19, 20, 21, 22, 23, 24, 25, 26, 27, 28, 29, 30, 31,\n",
              "       32, 33, 34, 35, 36, 37, 38, 39, 40, 41, 42,  0,  5,  3,  4,  1,  2,\n",
              "        6])"
            ]
          },
          "execution_count": 83,
          "metadata": {},
          "output_type": "execute_result"
        },
        {
          "name": "stdout",
          "output_type": "stream",
          "text": [
            "time: 4.63 ms (started: 2024-06-22 16:34:04 +00:00)\n"
          ]
        }
      ],
      "source": [
        "# Convert text to integer\n",
        "text_as_int_train = np.array([char_to_index_train[char] for char in text_train])\n",
        "text_as_int_train"
      ]
    },
    {
      "cell_type": "code",
      "execution_count": null,
      "metadata": {
        "colab": {
          "base_uri": "https://localhost:8080/"
        },
        "id": "iR0PJ-uvp-Jt",
        "outputId": "d7626a44-945a-417a-bcca-eef4091af494"
      },
      "outputs": [
        {
          "name": "stdout",
          "output_type": "stream",
          "text": [
            "time: 28.5 ms (started: 2024-06-22 16:34:23 +00:00)\n"
          ]
        }
      ],
      "source": [
        "#Sequences\n",
        "sequences_length = 100\n",
        "char_dataset_train = tf.data.Dataset.from_tensor_slices(text_as_int_train)\n",
        "sequences_train = char_dataset_train.batch(sequences_length + 1)\n",
        "\n",
        "def split_input_target(chunk):\n",
        "    input_text = chunk[:-1]\n",
        "    target_text = chunk[1:]\n",
        "    return input_text, target_text\n",
        "\n",
        "dataset_train = sequences_train.map(split_input_target)\n"
      ]
    },
    {
      "cell_type": "code",
      "execution_count": null,
      "metadata": {
        "colab": {
          "base_uri": "https://localhost:8080/"
        },
        "id": "fRebpRyCru5s",
        "outputId": "9b9f29cd-dcee-44b8-f296-e91849074768"
      },
      "outputs": [
        {
          "name": "stdout",
          "output_type": "stream",
          "text": [
            "time: 7.71 ms (started: 2024-06-22 16:34:26 +00:00)\n"
          ]
        }
      ],
      "source": [
        "BATCH_SIZE = 1\n",
        "BUFFER_SIZE = 10000\n",
        "\n",
        "dataset_train = dataset_train.shuffle(BUFFER_SIZE).batch(BATCH_SIZE)\n"
      ]
    },
    {
      "cell_type": "markdown",
      "metadata": {
        "id": "fqNxed1axhAY"
      },
      "source": [
        "## **Validation**"
      ]
    },
    {
      "cell_type": "code",
      "execution_count": null,
      "metadata": {
        "colab": {
          "base_uri": "https://localhost:8080/"
        },
        "id": "0_iD-1_1xhAY",
        "outputId": "c66becad-04b1-4cd0-dc62-28bc47d235af"
      },
      "outputs": [
        {
          "data": {
            "text/plain": [
              "((705,), (705,), (70,), (705,), (705,))"
            ]
          },
          "execution_count": 87,
          "metadata": {},
          "output_type": "execute_result"
        },
        {
          "name": "stdout",
          "output_type": "stream",
          "text": [
            "time: 135 ms (started: 2024-06-22 16:34:31 +00:00)\n"
          ]
        }
      ],
      "source": [
        "# Shape of the training data\n",
        "subject_labels_val = data2['subject_labels']\n",
        "eoc_labels_val = data2['eoc_labels']\n",
        "alphabet_val = data2['alphabet']\n",
        "strokes_val = data2['strokes']\n",
        "eow_labels_val = data2['eow_labels']\n",
        "\n",
        "subject_labels_val.shape, eoc_labels_val.shape, alphabet_val.shape, strokes_val.shape, eow_labels_val.shape\n"
      ]
    },
    {
      "cell_type": "code",
      "execution_count": null,
      "metadata": {
        "colab": {
          "base_uri": "https://localhost:8080/"
        },
        "id": "BKgfd4P2xhAY",
        "outputId": "6459391f-bae2-4518-ab11-f3e715781ec8"
      },
      "outputs": [
        {
          "data": {
            "text/plain": [
              "(dtype('int64'), dtype('O'), dtype('<U1'), dtype('O'), dtype('O'))"
            ]
          },
          "execution_count": 88,
          "metadata": {},
          "output_type": "execute_result"
        },
        {
          "name": "stdout",
          "output_type": "stream",
          "text": [
            "time: 4.24 ms (started: 2024-06-22 16:34:33 +00:00)\n"
          ]
        }
      ],
      "source": [
        "subject_labels_val.dtype, eoc_labels_val.dtype, alphabet_val.dtype, strokes_val.dtype, eow_labels_val.dtype"
      ]
    },
    {
      "cell_type": "code",
      "execution_count": null,
      "metadata": {
        "colab": {
          "base_uri": "https://localhost:8080/",
          "height": 53
        },
        "id": "4t1ADeC-xhAY",
        "outputId": "5cd882e3-4ca7-43c8-f3e7-4207d498050a"
      },
      "outputs": [
        {
          "data": {
            "application/vnd.google.colaboratory.intrinsic+json": {
              "type": "string"
            },
            "text/plain": [
              "\"0123456789abcdefghijklmnopqrstuvwxyzABCDEFGHIJKLMNOPQRSTUVWXYZ'.,-()/\""
            ]
          },
          "execution_count": 89,
          "metadata": {},
          "output_type": "execute_result"
        },
        {
          "name": "stdout",
          "output_type": "stream",
          "text": [
            "time: 6.11 ms (started: 2024-06-22 16:34:34 +00:00)\n"
          ]
        }
      ],
      "source": [
        "# Alphabet datatype is a unicode string\n",
        "text_val = ''.join(alphabet_val)\n",
        "text_val"
      ]
    },
    {
      "cell_type": "code",
      "execution_count": null,
      "metadata": {
        "colab": {
          "base_uri": "https://localhost:8080/"
        },
        "id": "56LHg3qGxhAY",
        "outputId": "67d47439-6877-4c37-b29f-760dd1c2f939"
      },
      "outputs": [
        {
          "name": "stdout",
          "output_type": "stream",
          "text": [
            "time: 983 µs (started: 2024-06-22 16:34:36 +00:00)\n"
          ]
        }
      ],
      "source": [
        "# Create vocabulary from text\n",
        "vocabulary_val = sorted(set(text_val))\n",
        "char_to_index_val = {char: index for index, char in enumerate(vocabulary_val)}\n",
        "index_to_char_val = np.array(vocabulary_val)"
      ]
    },
    {
      "cell_type": "code",
      "execution_count": null,
      "metadata": {
        "colab": {
          "base_uri": "https://localhost:8080/"
        },
        "id": "XeM8STl3xhAZ",
        "outputId": "54f831d8-573a-40db-bc40-ecc0cfa0e83d"
      },
      "outputs": [
        {
          "data": {
            "text/plain": [
              "{\"'\": 0,\n",
              " '(': 1,\n",
              " ')': 2,\n",
              " ',': 3,\n",
              " '-': 4,\n",
              " '.': 5,\n",
              " '/': 6,\n",
              " '0': 7,\n",
              " '1': 8,\n",
              " '2': 9,\n",
              " '3': 10,\n",
              " '4': 11,\n",
              " '5': 12,\n",
              " '6': 13,\n",
              " '7': 14,\n",
              " '8': 15,\n",
              " '9': 16,\n",
              " 'A': 17,\n",
              " 'B': 18,\n",
              " 'C': 19,\n",
              " 'D': 20,\n",
              " 'E': 21,\n",
              " 'F': 22,\n",
              " 'G': 23,\n",
              " 'H': 24,\n",
              " 'I': 25,\n",
              " 'J': 26,\n",
              " 'K': 27,\n",
              " 'L': 28,\n",
              " 'M': 29,\n",
              " 'N': 30,\n",
              " 'O': 31,\n",
              " 'P': 32,\n",
              " 'Q': 33,\n",
              " 'R': 34,\n",
              " 'S': 35,\n",
              " 'T': 36,\n",
              " 'U': 37,\n",
              " 'V': 38,\n",
              " 'W': 39,\n",
              " 'X': 40,\n",
              " 'Y': 41,\n",
              " 'Z': 42,\n",
              " 'a': 43,\n",
              " 'b': 44,\n",
              " 'c': 45,\n",
              " 'd': 46,\n",
              " 'e': 47,\n",
              " 'f': 48,\n",
              " 'g': 49,\n",
              " 'h': 50,\n",
              " 'i': 51,\n",
              " 'j': 52,\n",
              " 'k': 53,\n",
              " 'l': 54,\n",
              " 'm': 55,\n",
              " 'n': 56,\n",
              " 'o': 57,\n",
              " 'p': 58,\n",
              " 'q': 59,\n",
              " 'r': 60,\n",
              " 's': 61,\n",
              " 't': 62,\n",
              " 'u': 63,\n",
              " 'v': 64,\n",
              " 'w': 65,\n",
              " 'x': 66,\n",
              " 'y': 67,\n",
              " 'z': 68}"
            ]
          },
          "execution_count": 91,
          "metadata": {},
          "output_type": "execute_result"
        },
        {
          "name": "stdout",
          "output_type": "stream",
          "text": [
            "time: 8.42 ms (started: 2024-06-22 16:34:39 +00:00)\n"
          ]
        }
      ],
      "source": [
        "char_to_index_val"
      ]
    },
    {
      "cell_type": "code",
      "execution_count": null,
      "metadata": {
        "colab": {
          "base_uri": "https://localhost:8080/"
        },
        "id": "Sz2WmPEnxhAZ",
        "outputId": "a117581f-03e9-4197-f951-24f1b2951a7c"
      },
      "outputs": [
        {
          "data": {
            "text/plain": [
              "array([\"'\", '(', ')', ',', '-', '.', '/', '0', '1', '2', '3', '4', '5',\n",
              "       '6', '7', '8', '9', 'A', 'B', 'C', 'D', 'E', 'F', 'G', 'H', 'I',\n",
              "       'J', 'K', 'L', 'M', 'N', 'O', 'P', 'Q', 'R', 'S', 'T', 'U', 'V',\n",
              "       'W', 'X', 'Y', 'Z', 'a', 'b', 'c', 'd', 'e', 'f', 'g', 'h', 'i',\n",
              "       'j', 'k', 'l', 'm', 'n', 'o', 'p', 'q', 'r', 's', 't', 'u', 'v',\n",
              "       'w', 'x', 'y', 'z'], dtype='<U1')"
            ]
          },
          "execution_count": 92,
          "metadata": {},
          "output_type": "execute_result"
        },
        {
          "name": "stdout",
          "output_type": "stream",
          "text": [
            "time: 4.2 ms (started: 2024-06-22 16:34:48 +00:00)\n"
          ]
        }
      ],
      "source": [
        "index_to_char_val"
      ]
    },
    {
      "cell_type": "code",
      "execution_count": null,
      "metadata": {
        "colab": {
          "base_uri": "https://localhost:8080/"
        },
        "id": "4i8GhUZAxhAZ",
        "outputId": "e2954060-47ac-44f3-fbb0-cde26aa86854"
      },
      "outputs": [
        {
          "data": {
            "text/plain": [
              "array([ 7,  8,  9, 10, 11, 12, 13, 14, 15, 16, 43, 44, 45, 46, 47, 48, 49,\n",
              "       50, 51, 52, 53, 54, 55, 56, 57, 58, 59, 60, 61, 62, 63, 64, 65, 66,\n",
              "       67, 68, 17, 18, 19, 20, 21, 22, 23, 24, 25, 26, 27, 28, 29, 30, 31,\n",
              "       32, 33, 34, 35, 36, 37, 38, 39, 40, 41, 42,  0,  5,  3,  4,  1,  2,\n",
              "        6])"
            ]
          },
          "execution_count": 93,
          "metadata": {},
          "output_type": "execute_result"
        },
        {
          "name": "stdout",
          "output_type": "stream",
          "text": [
            "time: 4.51 ms (started: 2024-06-22 16:34:50 +00:00)\n"
          ]
        }
      ],
      "source": [
        "# Convert text to integer\n",
        "text_as_int_val = np.array([char_to_index_val[char] for char in text_val])\n",
        "text_as_int_val"
      ]
    },
    {
      "cell_type": "code",
      "execution_count": null,
      "metadata": {
        "colab": {
          "base_uri": "https://localhost:8080/"
        },
        "id": "FF4Owe7_xhAZ",
        "outputId": "f1e4a991-3e5a-4d69-8642-941ff9894e60"
      },
      "outputs": [
        {
          "name": "stdout",
          "output_type": "stream",
          "text": [
            "time: 28.6 ms (started: 2024-06-22 16:35:03 +00:00)\n"
          ]
        }
      ],
      "source": [
        "#Sequences\n",
        "sequences_length = 100\n",
        "char_dataset_val = tf.data.Dataset.from_tensor_slices(text_as_int_val)\n",
        "sequences_val = char_dataset_val.batch(sequences_length + 1)\n",
        "\n",
        "def split_input_target(chunk):\n",
        "    input_text = chunk[:-1]\n",
        "    target_text = chunk[1:]\n",
        "    return input_text, target_text\n",
        "\n",
        "dataset_val = sequences_val.map(split_input_target)\n"
      ]
    },
    {
      "cell_type": "code",
      "execution_count": null,
      "metadata": {
        "colab": {
          "base_uri": "https://localhost:8080/"
        },
        "id": "1qFek3wmxhAZ",
        "outputId": "e4acd373-b672-4d0f-a284-c4b3ffe81365"
      },
      "outputs": [
        {
          "name": "stdout",
          "output_type": "stream",
          "text": [
            "time: 9.78 ms (started: 2024-06-22 16:35:08 +00:00)\n"
          ]
        }
      ],
      "source": [
        "BATCH_SIZE = 1\n",
        "BUFFER_SIZE = 10000\n",
        "\n",
        "dataset_val = dataset_val.shuffle(BUFFER_SIZE).batch(BATCH_SIZE)\n"
      ]
    },
    {
      "cell_type": "code",
      "execution_count": null,
      "metadata": {
        "colab": {
          "base_uri": "https://localhost:8080/"
        },
        "id": "mUtBucQZr0Sc",
        "outputId": "7c44696d-2b77-4499-c430-74305e0f94c7"
      },
      "outputs": [
        {
          "data": {
            "text/plain": [
              "(<_BatchDataset element_spec=(TensorSpec(shape=(None, None), dtype=tf.int64, name=None), TensorSpec(shape=(None, None), dtype=tf.int64, name=None))>,\n",
              " <_BatchDataset element_spec=(TensorSpec(shape=(None, None), dtype=tf.int64, name=None), TensorSpec(shape=(None, None), dtype=tf.int64, name=None))>)"
            ]
          },
          "execution_count": 104,
          "metadata": {},
          "output_type": "execute_result"
        },
        {
          "name": "stdout",
          "output_type": "stream",
          "text": [
            "time: 4.25 ms (started: 2024-06-22 16:37:32 +00:00)\n"
          ]
        }
      ],
      "source": [
        "dataset_val, dataset_train"
      ]
    },
    {
      "cell_type": "code",
      "execution_count": null,
      "metadata": {
        "colab": {
          "base_uri": "https://localhost:8080/"
        },
        "id": "H5JWwXLqr421",
        "outputId": "3aa894cd-f793-43c8-8842-9681ee6744f0"
      },
      "outputs": [
        {
          "name": "stdout",
          "output_type": "stream",
          "text": [
            "Model: \"sequential_18\"\n",
            "_________________________________________________________________\n",
            " Layer (type)                Output Shape              Param #   \n",
            "=================================================================\n",
            " embedding_18 (Embedding)    (1, None, 256)            17664     \n",
            "                                                                 \n",
            " simple_rnn_20 (SimpleRNN)   (1, None, 1024)           1311744   \n",
            "                                                                 \n",
            " simple_rnn_21 (SimpleRNN)   (1, None, 1024)           2098176   \n",
            "                                                                 \n",
            " dropout (Dropout)           (1, None, 1024)           0         \n",
            "                                                                 \n",
            " dense_18 (Dense)            (1, None, 69)             70725     \n",
            "                                                                 \n",
            "=================================================================\n",
            "Total params: 3498309 (13.34 MB)\n",
            "Trainable params: 3498309 (13.34 MB)\n",
            "Non-trainable params: 0 (0.00 Byte)\n",
            "_________________________________________________________________\n",
            "time: 277 ms (started: 2024-06-22 16:54:17 +00:00)\n"
          ]
        }
      ],
      "source": [
        "model = tf.keras.Sequential([\n",
        "    Embedding(len(vocabulary_train), 256, batch_input_shape=[BATCH_SIZE, None]),\n",
        "    SimpleRNN(1024, return_sequences=True, stateful=True, recurrent_initializer='glorot_uniform', activation='relu'),\n",
        "    SimpleRNN(1024, return_sequences=True, stateful=True, recurrent_initializer='glorot_uniform', activation='relu'),\n",
        "    Dropout(0.5),\n",
        "    Dense(len(vocabulary_train),activation='softmax')\n",
        "])\n",
        "\n",
        "model.compile(optimizer=Adam(learning_rate=0.0001), loss=keras.losses.SparseCategoricalCrossentropy(), metrics=['accuracy'])\n",
        "model.summary()"
      ]
    },
    {
      "cell_type": "code",
      "execution_count": null,
      "metadata": {
        "colab": {
          "base_uri": "https://localhost:8080/"
        },
        "id": "zoEv_0Bmr_NK",
        "outputId": "42a92674-3ccf-47fd-b50d-cf38e886e346"
      },
      "outputs": [
        {
          "name": "stdout",
          "output_type": "stream",
          "text": [
            "Epoch 1/50\n",
            "1/1 [==============================] - 4s 4s/step - loss: 4.2395 - accuracy: 0.0000e+00 - val_loss: 4.2232 - val_accuracy: 0.0735\n",
            "Epoch 2/50\n",
            "1/1 [==============================] - 1s 726ms/step - loss: 4.2267 - accuracy: 0.0000e+00 - val_loss: 4.2102 - val_accuracy: 0.0882\n",
            "Epoch 3/50\n",
            "1/1 [==============================] - 1s 718ms/step - loss: 4.2108 - accuracy: 0.0735 - val_loss: 4.1977 - val_accuracy: 0.2059\n",
            "Epoch 4/50\n",
            "1/1 [==============================] - 1s 743ms/step - loss: 4.1946 - accuracy: 0.1324 - val_loss: 4.1855 - val_accuracy: 0.3382\n",
            "Epoch 5/50\n",
            "1/1 [==============================] - 1s 730ms/step - loss: 4.1880 - accuracy: 0.1176 - val_loss: 4.1733 - val_accuracy: 0.4853\n",
            "Epoch 6/50\n",
            "1/1 [==============================] - 1s 769ms/step - loss: 4.1721 - accuracy: 0.1765 - val_loss: 4.1610 - val_accuracy: 0.6176\n",
            "Epoch 7/50\n",
            "1/1 [==============================] - 1s 732ms/step - loss: 4.1612 - accuracy: 0.3088 - val_loss: 4.1484 - val_accuracy: 0.7500\n",
            "Epoch 8/50\n",
            "1/1 [==============================] - 1s 729ms/step - loss: 4.1430 - accuracy: 0.4265 - val_loss: 4.1352 - val_accuracy: 0.8382\n",
            "Epoch 9/50\n",
            "1/1 [==============================] - 1s 750ms/step - loss: 4.1373 - accuracy: 0.3824 - val_loss: 4.1212 - val_accuracy: 0.8824\n",
            "Epoch 10/50\n",
            "1/1 [==============================] - 1s 722ms/step - loss: 4.1166 - accuracy: 0.5735 - val_loss: 4.1058 - val_accuracy: 0.8971\n",
            "Epoch 11/50\n",
            "1/1 [==============================] - 1s 1s/step - loss: 4.1083 - accuracy: 0.5882 - val_loss: 4.0892 - val_accuracy: 0.9265\n",
            "Epoch 12/50\n",
            "1/1 [==============================] - 1s 1s/step - loss: 4.0981 - accuracy: 0.5441 - val_loss: 4.0716 - val_accuracy: 0.9265\n",
            "Epoch 13/50\n",
            "1/1 [==============================] - 1s 1s/step - loss: 4.0720 - accuracy: 0.5000 - val_loss: 4.0527 - val_accuracy: 0.9559\n",
            "Epoch 14/50\n",
            "1/1 [==============================] - 1s 1s/step - loss: 4.0577 - accuracy: 0.5441 - val_loss: 4.0316 - val_accuracy: 0.9559\n",
            "Epoch 15/50\n",
            "1/1 [==============================] - 1s 1s/step - loss: 4.0325 - accuracy: 0.6176 - val_loss: 4.0077 - val_accuracy: 0.9559\n",
            "Epoch 16/50\n",
            "1/1 [==============================] - 1s 788ms/step - loss: 4.0134 - accuracy: 0.6324 - val_loss: 3.9807 - val_accuracy: 0.9559\n",
            "Epoch 17/50\n",
            "1/1 [==============================] - 1s 925ms/step - loss: 3.9702 - accuracy: 0.7500 - val_loss: 3.9505 - val_accuracy: 0.9559\n",
            "Epoch 18/50\n",
            "1/1 [==============================] - 1s 1s/step - loss: 3.9456 - accuracy: 0.6029 - val_loss: 3.9162 - val_accuracy: 0.9265\n",
            "Epoch 19/50\n",
            "1/1 [==============================] - 1s 811ms/step - loss: 3.9113 - accuracy: 0.6324 - val_loss: 3.8767 - val_accuracy: 0.8971\n",
            "Epoch 20/50\n",
            "1/1 [==============================] - 1s 772ms/step - loss: 3.8883 - accuracy: 0.5441 - val_loss: 3.8301 - val_accuracy: 0.8971\n",
            "Epoch 21/50\n",
            "1/1 [==============================] - 1s 711ms/step - loss: 3.8410 - accuracy: 0.5147 - val_loss: 3.7798 - val_accuracy: 0.8676\n",
            "Epoch 22/50\n",
            "1/1 [==============================] - 1s 746ms/step - loss: 3.7929 - accuracy: 0.4118 - val_loss: 3.7189 - val_accuracy: 0.7941\n",
            "Epoch 23/50\n",
            "1/1 [==============================] - 1s 1s/step - loss: 3.7328 - accuracy: 0.4118 - val_loss: 3.6546 - val_accuracy: 0.8382\n",
            "Epoch 24/50\n",
            "1/1 [==============================] - 1s 1s/step - loss: 3.6508 - accuracy: 0.4853 - val_loss: 3.5783 - val_accuracy: 0.8676\n",
            "Epoch 25/50\n",
            "1/1 [==============================] - 1s 1s/step - loss: 3.6154 - accuracy: 0.3971 - val_loss: 3.5025 - val_accuracy: 0.9412\n",
            "Epoch 26/50\n",
            "1/1 [==============================] - 1s 1s/step - loss: 3.4905 - accuracy: 0.4853 - val_loss: 3.3852 - val_accuracy: 0.8382\n",
            "Epoch 27/50\n",
            "1/1 [==============================] - 1s 1s/step - loss: 3.5136 - accuracy: 0.2500 - val_loss: 3.3939 - val_accuracy: 0.9118\n",
            "Epoch 28/50\n",
            "1/1 [==============================] - 1s 722ms/step - loss: 3.4170 - accuracy: 0.6029 - val_loss: 3.3174 - val_accuracy: 0.9559\n",
            "Epoch 29/50\n",
            "1/1 [==============================] - 1s 695ms/step - loss: 3.2795 - accuracy: 0.6029 - val_loss: 3.1660 - val_accuracy: 0.8235\n",
            "Epoch 30/50\n",
            "1/1 [==============================] - 1s 674ms/step - loss: 3.2340 - accuracy: 0.3824 - val_loss: 3.0301 - val_accuracy: 0.8971\n",
            "Epoch 31/50\n",
            "1/1 [==============================] - 1s 716ms/step - loss: 3.1399 - accuracy: 0.3676 - val_loss: 2.9817 - val_accuracy: 0.9706\n",
            "Epoch 32/50\n",
            "1/1 [==============================] - 1s 735ms/step - loss: 3.0666 - accuracy: 0.6765 - val_loss: 2.9457 - val_accuracy: 1.0000\n",
            "Epoch 33/50\n",
            "1/1 [==============================] - 1s 712ms/step - loss: 3.0710 - accuracy: 0.6471 - val_loss: 2.7372 - val_accuracy: 0.9706\n",
            "Epoch 34/50\n",
            "1/1 [==============================] - 1s 721ms/step - loss: 2.7926 - accuracy: 0.4706 - val_loss: 2.5006 - val_accuracy: 0.9559\n",
            "Epoch 35/50\n",
            "1/1 [==============================] - 1s 738ms/step - loss: 2.7845 - accuracy: 0.5000 - val_loss: 2.3614 - val_accuracy: 0.9853\n",
            "Epoch 36/50\n",
            "1/1 [==============================] - 1s 736ms/step - loss: 2.5315 - accuracy: 0.6618 - val_loss: 2.1240 - val_accuracy: 0.9265\n",
            "Epoch 37/50\n",
            "1/1 [==============================] - 1s 707ms/step - loss: 2.6754 - accuracy: 0.3824 - val_loss: 2.4077 - val_accuracy: 0.9412\n",
            "Epoch 38/50\n",
            "1/1 [==============================] - 1s 1s/step - loss: 2.6427 - accuracy: 0.6471 - val_loss: 2.4359 - val_accuracy: 0.9853\n",
            "Epoch 39/50\n",
            "1/1 [==============================] - 1s 1s/step - loss: 2.5854 - accuracy: 0.7647 - val_loss: 2.2676 - val_accuracy: 1.0000\n",
            "Epoch 40/50\n",
            "1/1 [==============================] - 1s 1s/step - loss: 2.3104 - accuracy: 0.8529 - val_loss: 1.8481 - val_accuracy: 0.9853\n",
            "Epoch 41/50\n",
            "1/1 [==============================] - 1s 747ms/step - loss: 2.1895 - accuracy: 0.5882 - val_loss: 1.3679 - val_accuracy: 0.9118\n",
            "Epoch 42/50\n",
            "1/1 [==============================] - 1s 690ms/step - loss: 2.2389 - accuracy: 0.3971 - val_loss: 1.6525 - val_accuracy: 0.9412\n",
            "Epoch 43/50\n",
            "1/1 [==============================] - 1s 748ms/step - loss: 2.0089 - accuracy: 0.8529 - val_loss: 2.0376 - val_accuracy: 0.9853\n",
            "Epoch 44/50\n",
            "1/1 [==============================] - 1s 787ms/step - loss: 2.1761 - accuracy: 0.8971 - val_loss: 2.0353 - val_accuracy: 1.0000\n",
            "Epoch 45/50\n",
            "1/1 [==============================] - 1s 724ms/step - loss: 2.1866 - accuracy: 0.9118 - val_loss: 1.8127 - val_accuracy: 1.0000\n",
            "Epoch 46/50\n",
            "1/1 [==============================] - 1s 708ms/step - loss: 2.0041 - accuracy: 0.7794 - val_loss: 1.3603 - val_accuracy: 1.0000\n",
            "Epoch 47/50\n",
            "1/1 [==============================] - 1s 759ms/step - loss: 2.0232 - accuracy: 0.5000 - val_loss: 0.9406 - val_accuracy: 1.0000\n",
            "Epoch 48/50\n",
            "1/1 [==============================] - 1s 689ms/step - loss: 1.4326 - accuracy: 0.6471 - val_loss: 0.7243 - val_accuracy: 1.0000\n",
            "Epoch 49/50\n",
            "1/1 [==============================] - 1s 776ms/step - loss: 1.1265 - accuracy: 0.8088 - val_loss: 0.4678 - val_accuracy: 1.0000\n",
            "Epoch 50/50\n",
            "1/1 [==============================] - 1s 792ms/step - loss: 1.0035 - accuracy: 0.7647 - val_loss: 0.2899 - val_accuracy: 1.0000\n",
            "time: 1min 1s (started: 2024-06-22 16:54:21 +00:00)\n"
          ]
        }
      ],
      "source": [
        "history = model.fit(dataset_train, epochs=50,validation_data=dataset_val)"
      ]
    },
    {
      "cell_type": "code",
      "execution_count": null,
      "metadata": {
        "colab": {
          "background_save": true
        },
        "id": "AhKI54za8QlY",
        "outputId": "5da5a896-3e40-43fa-f68c-785f09320bde"
      },
      "outputs": [
        {
          "name": "stdout",
          "output_type": "stream",
          "text": [
            "Generated Text: \n",
            " HelloLFIfBQMpfGo3BeE((xLhFlw-cr6qkeE5TO6Uexx8H'gIu1nOV77gMv8Wnsej.Mugk1li9iFPDqsUo3b3qE8kemAGRwJB8u0TS5T2e)ZTv-zVLZRkg5/jzTCDLzRaWKC1TgM)vg0h/(4A7NWDVRI'MAXGmVJH)mP1tlyy1ht1PEzPJDWY,RjTmHq9/358-)gkwtMEbstuoL-9G008.mRhrck3HvvfEHkJP33YY))I2rD38g8wK0cGsaNpLzlpPGbgfw3P(LnY0,9upjGPrQvw4H,LUhbqFa8EDWjg'u7O.iBGxTooqNKjt)1tj)7hchVSPC8Um.Qw(Q)TdA49'zZv5JaOXldOoz'VWlZhjrq/vhX8EzD1OHQhB,pyA1U6-8aCv.GREnVbzXIxwbRNW41)Pf'cln5f3t'2pQNpbXdegrJpN69x2leI/AlgVY-HpMx02dixEnQKZ'9kPFEgcgzgNhIsb0vxlbNC2WbY,l1cW1.b5aOAZYOXmBIQ-PjuYjPZkl1oBMtJ.eX31/.nILWscu.0TN4JrkZdLtPDwFg4pEF0bV)4g6M-rH9/E15yL2X9z)Aal8GuLgPzaXL6IUQ676blK'vJ1f91oXZGbMDvs'YAMlTrjXVCwZBSLA-L0pKtZwqp9L5LJ8/O'QxOdcRbO/tK-.-m,lGovM8Pn7jQAyXbfj2Dp99j-dbhIcie36Fxm5dUgY-njO5M6'3t38hhuGmOOR.kbiW9eBeqc1gQlZd0KbU)h9pBajb/-eOr5klAs.ieIYM7pxOZ63FVBWcWiw'TZMjp(.M2wEt2gwZ1.v1xLt/Pn'R-Q'2-28,ppiNhCIU-'ztqambtK2)Z8TkHfPlpBnpgm'QhMSV,D9G.-XSKlVMHnwI3NapdESI21FNbQ(-C608oaR2n)qlRE'94xa1efQwyeJgcqWFHDo.oVcK27R0J(iBjyt)uF)l42,ULy48bRDkXpk32.,oIycnQGfLOubQjb,iDFI50YZOU\n",
            "time: 48min 30s (started: 2024-06-22 17:14:42 +00:00)\n"
          ]
        }
      ],
      "source": [
        "import tensorflow as tf\n",
        "\n",
        "def generate_text(model, start_string, char_to_index_val, index_to_char_val, num_generate=1000, temperature=1.0):\n",
        "    # Convert start_string to indices\n",
        "    input_eval = [char_to_index_val[s] for s in start_string]\n",
        "    input_eval = tf.expand_dims(input_eval, 0)\n",
        "\n",
        "    text_generated = []  # List to store the generated text\n",
        "\n",
        "    model.reset_states()  # Reset model states\n",
        "    for i in range(num_generate):\n",
        "        predictions = model(input_eval)  # Get predictions\n",
        "        predictions = tf.squeeze(predictions, 0)  # Remove batch dimension\n",
        "\n",
        "        # Apply temperature to control randomness\n",
        "        predictions = predictions / temperature\n",
        "\n",
        "        # Sample from the distribution\n",
        "        predicted_id = tf.random.categorical(predictions, num_samples=1)[-1, 0].numpy()\n",
        "\n",
        "        # Append the predicted character to the generated text\n",
        "        text_generated.append(index_to_char_val[predicted_id])\n",
        "\n",
        "        # Update input_eval to include the newly predicted character\n",
        "        input_eval = tf.expand_dims(input_eval[0].numpy().tolist() + [predicted_id], 0)\n",
        "\n",
        "    generated_text = start_string + ''.join(text_generated)\n",
        "    return generated_text\n",
        "\n",
        "# Example usage\n",
        "# Assuming model, char_to_index_val, and index_to_char_val are already defined and initialized\n",
        "generated_text = generate_text(model, start_string=\"Hello\", char_to_index_val=char_to_index_val, index_to_char_val=index_to_char_val)\n",
        "print(\"Generated Text: \\n\", generated_text)\n"
      ]
    }
  ],
  "metadata": {
    "colab": {
      "provenance": [],
      "authorship_tag": "ABX9TyPeIqZfXhke/IRqUSlgS96p",
      "include_colab_link": true
    },
    "kernelspec": {
      "display_name": "Python 3",
      "name": "python3"
    },
    "language_info": {
      "name": "python"
    }
  },
  "nbformat": 4,
  "nbformat_minor": 0
}